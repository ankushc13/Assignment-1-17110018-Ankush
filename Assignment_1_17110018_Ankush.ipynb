{
  "nbformat": 4,
  "nbformat_minor": 0,
  "metadata": {
    "colab": {
      "name": "Assignment-1-17110018-Ankush",
      "version": "0.3.2",
      "provenance": [],
      "collapsed_sections": []
    },
    "kernelspec": {
      "name": "python3",
      "display_name": "Python 3"
    }
  },
  "cells": [
    {
      "cell_type": "code",
      "metadata": {
        "id": "DF5Aj_DjXkz1",
        "colab_type": "code",
        "colab": {
          "base_uri": "https://localhost:8080/",
          "height": 85
        },
        "outputId": "0565c86a-8771-470a-f182-ac22cf712dc5"
      },
      "source": [
        "import re\n",
        "import nltk\n",
        "from collections import defaultdict\n",
        "import math\n",
        "import pandas as pd\n",
        "import matplotlib.pyplot as plt\n",
        "import random\n",
        "from nltk.tokenize import word_tokenize\n",
        "from nltk.corpus import wordnet\n",
        "from nltk.probability import FreqDist\n",
        "nltk.download('wordnet')\n",
        "nltk.download('punkt')\n",
        "data = pd.read_csv(\"/content/tweets-dataset.csv\")\n",
        "sent=data['Sentence'].values.tolist()\n",
        "new_data=''\n",
        "for i in sent:\n",
        "    new_data=new_data+i+' '\n",
        "\n",
        "new_data=re.sub(r'http/(?:url|URL)|#[/A-Za-z0-9_]+|@[A-Za-z0-9_]+|https?://(?:[A-Za-z0-9]|[./])+','',new_data)\n",
        "new_data=re.sub(r'twitter.com(?:[A-Za-z0-9]|[./])+','',new_data)\n",
        "new_data=re.sub(r'[^A-Za-z ]+',' ',new_data)\n",
        "# with open(\"data.txt\",\"w\") as f:\n",
        "#  \tf.write(new_data)\n",
        "# f.close()"
      ],
      "execution_count": 1,
      "outputs": [
        {
          "output_type": "stream",
          "text": [
            "[nltk_data] Downloading package wordnet to /root/nltk_data...\n",
            "[nltk_data]   Unzipping corpora/wordnet.zip.\n",
            "[nltk_data] Downloading package punkt to /root/nltk_data...\n",
            "[nltk_data]   Unzipping tokenizers/punkt.zip.\n"
          ],
          "name": "stdout"
        }
      ]
    },
    {
      "cell_type": "code",
      "metadata": {
        "id": "0jqXu5KiXqbs",
        "colab_type": "code",
        "colab": {
          "base_uri": "https://localhost:8080/",
          "height": 68
        },
        "outputId": "172266f6-6a95-4c0e-8b5e-df497495943e"
      },
      "source": [
        "######Q1#######Q1############Q1\n",
        "\n",
        "tokens=len(word_tokenize(new_data))\n",
        "types=len(set(word_tokenize(new_data)))\n",
        "print(\"Tokens: {}\".format(tokens),\"Types: {}\".format(types),\"TTR: {}\".format(types/tokens),sep=\"\\n\")\n",
        "\n",
        "###############################"
      ],
      "execution_count": 2,
      "outputs": [
        {
          "output_type": "stream",
          "text": [
            "Tokens: 290747\n",
            "Types: 36909\n",
            "TTR: 0.12694541990115119\n"
          ],
          "name": "stdout"
        }
      ]
    },
    {
      "cell_type": "code",
      "metadata": {
        "id": "EIE9-0TpXsfX",
        "colab_type": "code",
        "colab": {
          "base_uri": "https://localhost:8080/",
          "height": 320
        },
        "outputId": "b69a60d3-3043-4c1e-949a-0c04bb985e2b"
      },
      "source": [
        "######Q2##########Q2###########Q2\n",
        "word=random.choices(list(set(word_tokenize(new_data))),k=20000)\n",
        "\n",
        "\n",
        "synonyms = defaultdict(int)\n",
        "#for extraction of meaning i used WORDNET\n",
        "for i in word:\n",
        "\tlword=[]\n",
        "\tfor syn in wordnet.synsets(i):\n",
        "\t\tfor l in syn.lemmas():\n",
        "\t\t\tlword.append(l.name())\n",
        "\tif len(set(lword))!=0:\n",
        "\t\tsynonyms[i]=len(set(lword))\n",
        "\n",
        "\n",
        "length=[math.sqrt(len(i)) for i in word if len(i)>=4]\n",
        "meaning=[synonyms[i] for i in word if len(i)>=4]\n",
        "# print(synonyms,meaning,length,end=\"\\n\")\n",
        "plt.xlabel('sqrt(length)')\n",
        "plt.ylabel('meaning')\n",
        "plt.scatter(length,meaning, c=(0,0,0))\n",
        "plt.show() \n",
        "\n",
        "###########################################################################\n",
        "\n",
        "\n"
      ],
      "execution_count": 7,
      "outputs": [
        {
          "output_type": "stream",
          "text": [
            "'c' argument looks like a single numeric RGB or RGBA sequence, which should be avoided as value-mapping will have precedence in case its length matches with 'x' & 'y'.  Please use a 2-D array with a single row if you really want to specify the same RGB or RGBA value for all points.\n"
          ],
          "name": "stderr"
        },
        {
          "output_type": "display_data",
          "data": {
            "image/png": "[encoded data removed]",
            "text/plain": [
              "<Figure size 432x288 with 1 Axes>"
            ]
          },
          "metadata": {
            "tags": []
          }
        }
      ]
    },
    {
      "cell_type": "code",
      "metadata": {
        "id": "Pv0eUQwtNqjS",
        "colab_type": "code",
        "colab": {}
      },
      "source": [
        ""
      ],
      "execution_count": 0,
      "outputs": []
    },
    {
      "cell_type": "code",
      "metadata": {
        "id": "_RGXTEvONk4N",
        "colab_type": "code",
        "colab": {}
      },
      "source": [
        ""
      ],
      "execution_count": 0,
      "outputs": []
    },
    {
      "cell_type": "code",
      "metadata": {
        "id": "Pxfdh5PXX2wf",
        "colab_type": "code",
        "colab": {
          "base_uri": "https://localhost:8080/",
          "height": 283
        },
        "outputId": "ebc33c75-dfb5-41bf-a64e-0ca606d2f304"
      },
      "source": [
        "#########Q3############Q3#############Q3###########\n",
        "\n",
        "i = 0\n",
        "heap_dict=defaultdict(int)\n",
        "token=word_tokenize(new_data)\n",
        "words = set()\n",
        "for word in token:\n",
        "    words.add(word)\n",
        "    i += 1\n",
        "    heap_dict[i]=len(words)\n",
        "N=[int(i) for i in heap_dict.keys()]\n",
        "V=[int(heap_dict[i]) for i in heap_dict.keys()]\n",
        "plt.xlabel('Size of corpus N')\n",
        "plt.ylabel('Vocabulary size |V|')\n",
        "plt.plot(N,V)\n",
        "plt.show()\n",
        "\n",
        "###################################################"
      ],
      "execution_count": 8,
      "outputs": [
        {
          "output_type": "display_data",
          "data": {
            "image/png": "[encoded data removed]",
            "text/plain": [
              "<Figure size 432x288 with 1 Axes>"
            ]
          },
          "metadata": {
            "tags": []
          }
        }
      ]
    }
  ]
}